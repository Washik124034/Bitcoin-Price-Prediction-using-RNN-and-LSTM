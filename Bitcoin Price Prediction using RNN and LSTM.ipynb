{
 "cells": [
  {
   "cell_type": "code",
   "execution_count": 1,
   "metadata": {},
   "outputs": [],
   "source": [
    "import numpy as np\n",
    "import pandas as pd\n",
    "import matplotlib.pyplot as plt\n",
    "from sklearn.preprocessing import MinMaxScaler\n",
    "from tensorflow.keras.models import Sequential\n",
    "from tensorflow.keras.layers import SimpleRNN, LSTM, Dense, Dropout, Flatten"
   ]
  },
  {
   "cell_type": "code",
   "execution_count": 2,
   "metadata": {},
   "outputs": [
    {
     "data": {
      "text/html": [
       "<div>\n",
       "<style scoped>\n",
       "    .dataframe tbody tr th:only-of-type {\n",
       "        vertical-align: middle;\n",
       "    }\n",
       "\n",
       "    .dataframe tbody tr th {\n",
       "        vertical-align: top;\n",
       "    }\n",
       "\n",
       "    .dataframe thead th {\n",
       "        text-align: right;\n",
       "    }\n",
       "</style>\n",
       "<table border=\"1\" class=\"dataframe\">\n",
       "  <thead>\n",
       "    <tr style=\"text-align: right;\">\n",
       "      <th></th>\n",
       "      <th>Timestamp</th>\n",
       "      <th>Open</th>\n",
       "      <th>High</th>\n",
       "      <th>Low</th>\n",
       "      <th>Close</th>\n",
       "      <th>Volume_(BTC)</th>\n",
       "      <th>Volume_(Currency)</th>\n",
       "      <th>Weighted_Price</th>\n",
       "    </tr>\n",
       "  </thead>\n",
       "  <tbody>\n",
       "    <tr>\n",
       "      <th>0</th>\n",
       "      <td>1325317920</td>\n",
       "      <td>4.39</td>\n",
       "      <td>4.39</td>\n",
       "      <td>4.39</td>\n",
       "      <td>4.39</td>\n",
       "      <td>0.455581</td>\n",
       "      <td>2.000000</td>\n",
       "      <td>4.390000</td>\n",
       "    </tr>\n",
       "    <tr>\n",
       "      <th>478</th>\n",
       "      <td>1325346600</td>\n",
       "      <td>4.39</td>\n",
       "      <td>4.39</td>\n",
       "      <td>4.39</td>\n",
       "      <td>4.39</td>\n",
       "      <td>48.000000</td>\n",
       "      <td>210.720000</td>\n",
       "      <td>4.390000</td>\n",
       "    </tr>\n",
       "    <tr>\n",
       "      <th>547</th>\n",
       "      <td>1325350740</td>\n",
       "      <td>4.50</td>\n",
       "      <td>4.57</td>\n",
       "      <td>4.50</td>\n",
       "      <td>4.57</td>\n",
       "      <td>37.862297</td>\n",
       "      <td>171.380338</td>\n",
       "      <td>4.526411</td>\n",
       "    </tr>\n",
       "    <tr>\n",
       "      <th>548</th>\n",
       "      <td>1325350800</td>\n",
       "      <td>4.58</td>\n",
       "      <td>4.58</td>\n",
       "      <td>4.58</td>\n",
       "      <td>4.58</td>\n",
       "      <td>9.000000</td>\n",
       "      <td>41.220000</td>\n",
       "      <td>4.580000</td>\n",
       "    </tr>\n",
       "    <tr>\n",
       "      <th>1224</th>\n",
       "      <td>1325391360</td>\n",
       "      <td>4.58</td>\n",
       "      <td>4.58</td>\n",
       "      <td>4.58</td>\n",
       "      <td>4.58</td>\n",
       "      <td>1.502000</td>\n",
       "      <td>6.879160</td>\n",
       "      <td>4.580000</td>\n",
       "    </tr>\n",
       "    <tr>\n",
       "      <th>1896</th>\n",
       "      <td>1325431680</td>\n",
       "      <td>4.84</td>\n",
       "      <td>4.84</td>\n",
       "      <td>4.84</td>\n",
       "      <td>4.84</td>\n",
       "      <td>10.000000</td>\n",
       "      <td>48.400000</td>\n",
       "      <td>4.840000</td>\n",
       "    </tr>\n",
       "    <tr>\n",
       "      <th>2333</th>\n",
       "      <td>1325457900</td>\n",
       "      <td>5.00</td>\n",
       "      <td>5.00</td>\n",
       "      <td>5.00</td>\n",
       "      <td>5.00</td>\n",
       "      <td>10.100000</td>\n",
       "      <td>50.500000</td>\n",
       "      <td>5.000000</td>\n",
       "    </tr>\n",
       "    <tr>\n",
       "      <th>3612</th>\n",
       "      <td>1325534640</td>\n",
       "      <td>5.00</td>\n",
       "      <td>5.00</td>\n",
       "      <td>5.00</td>\n",
       "      <td>5.00</td>\n",
       "      <td>19.048000</td>\n",
       "      <td>95.240000</td>\n",
       "      <td>5.000000</td>\n",
       "    </tr>\n",
       "    <tr>\n",
       "      <th>4553</th>\n",
       "      <td>1325591100</td>\n",
       "      <td>5.32</td>\n",
       "      <td>5.32</td>\n",
       "      <td>5.32</td>\n",
       "      <td>5.32</td>\n",
       "      <td>2.419173</td>\n",
       "      <td>12.870000</td>\n",
       "      <td>5.320000</td>\n",
       "    </tr>\n",
       "    <tr>\n",
       "      <th>4710</th>\n",
       "      <td>1325600520</td>\n",
       "      <td>5.14</td>\n",
       "      <td>5.14</td>\n",
       "      <td>5.14</td>\n",
       "      <td>5.14</td>\n",
       "      <td>0.680000</td>\n",
       "      <td>3.495200</td>\n",
       "      <td>5.140000</td>\n",
       "    </tr>\n",
       "  </tbody>\n",
       "</table>\n",
       "</div>"
      ],
      "text/plain": [
       "       Timestamp  Open  High   Low  Close  Volume_(BTC)  Volume_(Currency)  \\\n",
       "0     1325317920  4.39  4.39  4.39   4.39      0.455581           2.000000   \n",
       "478   1325346600  4.39  4.39  4.39   4.39     48.000000         210.720000   \n",
       "547   1325350740  4.50  4.57  4.50   4.57     37.862297         171.380338   \n",
       "548   1325350800  4.58  4.58  4.58   4.58      9.000000          41.220000   \n",
       "1224  1325391360  4.58  4.58  4.58   4.58      1.502000           6.879160   \n",
       "1896  1325431680  4.84  4.84  4.84   4.84     10.000000          48.400000   \n",
       "2333  1325457900  5.00  5.00  5.00   5.00     10.100000          50.500000   \n",
       "3612  1325534640  5.00  5.00  5.00   5.00     19.048000          95.240000   \n",
       "4553  1325591100  5.32  5.32  5.32   5.32      2.419173          12.870000   \n",
       "4710  1325600520  5.14  5.14  5.14   5.14      0.680000           3.495200   \n",
       "\n",
       "      Weighted_Price  \n",
       "0           4.390000  \n",
       "478         4.390000  \n",
       "547         4.526411  \n",
       "548         4.580000  \n",
       "1224        4.580000  \n",
       "1896        4.840000  \n",
       "2333        5.000000  \n",
       "3612        5.000000  \n",
       "4553        5.320000  \n",
       "4710        5.140000  "
      ]
     },
     "execution_count": 2,
     "metadata": {},
     "output_type": "execute_result"
    }
   ],
   "source": [
    "df = pd.read_csv(\"bitstampUSD_1-min_data_2012-01-01_to_2019-03-13.csv\")\n",
    "df = df.dropna()\n",
    "df.head(10)"
   ]
  },
  {
   "cell_type": "code",
   "execution_count": 3,
   "metadata": {},
   "outputs": [
    {
     "data": {
      "text/plain": [
       "[<matplotlib.lines.Line2D at 0xf4a7ac8>]"
      ]
     },
     "execution_count": 3,
     "metadata": {},
     "output_type": "execute_result"
    },
    {
     "data": {
      "image/png": "[encoded data removed]",
      "text/plain": [
       "<Figure size 720x720 with 1 Axes>"
      ]
     },
     "metadata": {
      "needs_background": "light"
     },
     "output_type": "display_data"
    }
   ],
   "source": [
    "price = df['Weighted_Price']\n",
    "plt.figure(figsize=(10,10))\n",
    "plt.plot(price)"
   ]
  },
  {
   "cell_type": "code",
   "execution_count": 4,
   "metadata": {},
   "outputs": [],
   "source": [
    "timestep = 60\n",
    "price_train = price[:len(price)-timestep]\n",
    "price_test = price[len(price)-timestep:]\n"
   ]
  },
  {
   "cell_type": "code",
   "execution_count": 5,
   "metadata": {},
   "outputs": [],
   "source": [
    "def scale_data(data):\n",
    "    sc = MinMaxScaler(feature_range=(0,1))\n",
    "    return sc.fit_transform(data),sc"
   ]
  },
  {
   "cell_type": "code",
   "execution_count": 6,
   "metadata": {},
   "outputs": [],
   "source": [
    "price_train = price_train.values.reshape(price_train.shape[0],1)\n",
    "price_train_scaled, training_scale_model = scale_data(price_train)\n",
    "\n",
    "price_test = price_test.values.reshape(price_test.shape[0],1)\n",
    "price_test_scaled, test_scale_model = scale_data(price_test)"
   ]
  },
  {
   "cell_type": "code",
   "execution_count": 7,
   "metadata": {},
   "outputs": [
    {
     "data": {
      "text/plain": [
       "[<matplotlib.lines.Line2D at 0xf5a0b70>]"
      ]
     },
     "execution_count": 7,
     "metadata": {},
     "output_type": "execute_result"
    },
    {
     "data": {
      "image/png": "[encoded data removed]",
      "text/plain": [
       "<Figure size 432x288 with 1 Axes>"
      ]
     },
     "metadata": {
      "needs_background": "light"
     },
     "output_type": "display_data"
    },
    {
     "data": {
      "image/png": "[encoded data removed]",
      "text/plain": [
       "<Figure size 432x288 with 1 Axes>"
      ]
     },
     "metadata": {
      "needs_background": "light"
     },
     "output_type": "display_data"
    }
   ],
   "source": [
    "plt.plot(price_train_scaled)# plot scaled training set\n",
    "plt.figure()\n",
    "plt.plot(training_scale_model.inverse_transform(price_train_scaled)) # plot inversed scaled training set"
   ]
  },
  {
   "cell_type": "code",
   "execution_count": 8,
   "metadata": {},
   "outputs": [],
   "source": [
    "def build_timeseries(data,step):\n",
    "    X = []\n",
    "    Y = []\n",
    "    \n",
    "    for i in range(len(data)-step-1):\n",
    "        X.append(data[i:i+step,0])\n",
    "        Y.append(data[i+step,0])\n",
    "    X = np.array(X)\n",
    "    Y = np.array(Y)\n",
    "    return X,Y\n",
    "    "
   ]
  },
  {
   "cell_type": "code",
   "execution_count": 9,
   "metadata": {},
   "outputs": [],
   "source": [
    "X_train, Y_train = build_timeseries(price_train_scaled,step = 10)\n",
    "X_test, Y_test = build_timeseries(price_test_scaled,step = 10)"
   ]
  },
  {
   "cell_type": "code",
   "execution_count": 10,
   "metadata": {},
   "outputs": [
    {
     "data": {
      "text/plain": [
       "(2551061, 10, 1)"
      ]
     },
     "execution_count": 10,
     "metadata": {},
     "output_type": "execute_result"
    }
   ],
   "source": [
    "X_train = X_train.reshape((X_train.shape[0], X_train.shape[1], 1))\n",
    "X_test = X_test.reshape((X_test.shape[0], X_test.shape[1], 1))\n",
    "X_train.shape"
   ]
  },
  {
   "cell_type": "code",
   "execution_count": 11,
   "metadata": {},
   "outputs": [
    {
     "name": "stdout",
     "output_type": "stream",
     "text": [
      "WARNING:tensorflow:From h:\\miniconda3\\envs\\tensorflow-gpu\\lib\\site-packages\\tensorflow\\python\\ops\\resource_variable_ops.py:435: colocate_with (from tensorflow.python.framework.ops) is deprecated and will be removed in a future version.\n",
      "Instructions for updating:\n",
      "Colocations handled automatically by placer.\n",
      "WARNING:tensorflow:From h:\\miniconda3\\envs\\tensorflow-gpu\\lib\\site-packages\\tensorflow\\python\\keras\\layers\\core.py:143: calling dropout (from tensorflow.python.ops.nn_ops) with keep_prob is deprecated and will be removed in a future version.\n",
      "Instructions for updating:\n",
      "Please use `rate` instead of `keep_prob`. Rate should be set to `rate = 1 - keep_prob`.\n",
      "_________________________________________________________________\n",
      "Layer (type)                 Output Shape              Param #   \n",
      "=================================================================\n",
      "simple_rnn (SimpleRNN)       (None, 10, 200)           40400     \n",
      "_________________________________________________________________\n",
      "dropout (Dropout)            (None, 10, 200)           0         \n",
      "_________________________________________________________________\n",
      "simple_rnn_1 (SimpleRNN)     (None, 10, 150)           52650     \n",
      "_________________________________________________________________\n",
      "dropout_1 (Dropout)          (None, 10, 150)           0         \n",
      "_________________________________________________________________\n",
      "simple_rnn_2 (SimpleRNN)     (None, 10, 100)           25100     \n",
      "_________________________________________________________________\n",
      "dropout_2 (Dropout)          (None, 10, 100)           0         \n",
      "_________________________________________________________________\n",
      "simple_rnn_3 (SimpleRNN)     (None, 10, 150)           37650     \n",
      "_________________________________________________________________\n",
      "dropout_3 (Dropout)          (None, 10, 150)           0         \n",
      "_________________________________________________________________\n",
      "flatten (Flatten)            (None, 1500)              0         \n",
      "_________________________________________________________________\n",
      "dense (Dense)                (None, 8)                 12008     \n",
      "_________________________________________________________________\n",
      "dense_1 (Dense)              (None, 1)                 9         \n",
      "=================================================================\n",
      "Total params: 167,817\n",
      "Trainable params: 167,817\n",
      "Non-trainable params: 0\n",
      "_________________________________________________________________\n",
      "WARNING:tensorflow:From h:\\miniconda3\\envs\\tensorflow-gpu\\lib\\site-packages\\tensorflow\\python\\keras\\utils\\losses_utils.py:170: to_float (from tensorflow.python.ops.math_ops) is deprecated and will be removed in a future version.\n",
      "Instructions for updating:\n",
      "Use tf.cast instead.\n"
     ]
    }
   ],
   "source": [
    "model = Sequential()\n",
    "model.add(SimpleRNN(200,activation='relu',return_sequences=True,input_shape=(10,1)))\n",
    "model.add(Dropout(0.1))\n",
    "model.add(SimpleRNN(150,activation='relu',return_sequences=True))\n",
    "model.add(Dropout(0.1))\n",
    "model.add(SimpleRNN(100,activation= 'relu',return_sequences=True))\n",
    "model.add(Dropout(0.1))\n",
    "model.add(SimpleRNN(150,activation='relu',return_sequences=True))\n",
    "model.add(Dropout(0.1))\n",
    "model.add(Flatten())\n",
    "model.add(Dense(8, activation=\"relu\")) \n",
    "model.add(Dense(units = 1))\n",
    "model.summary()\n",
    "model.compile(optimizer='adam',loss= 'mean_squared_error')"
   ]
  },
  {
   "cell_type": "code",
   "execution_count": 12,
   "metadata": {},
   "outputs": [
    {
     "name": "stdout",
     "output_type": "stream",
     "text": [
      "WARNING:tensorflow:From h:\\miniconda3\\envs\\tensorflow-gpu\\lib\\site-packages\\tensorflow\\python\\ops\\math_ops.py:3066: to_int32 (from tensorflow.python.ops.math_ops) is deprecated and will be removed in a future version.\n",
      "Instructions for updating:\n",
      "Use tf.cast instead.\n",
      "Epoch 1/5\n",
      "2551061/2551061 [==============================] - 2534s 993us/sample - loss: 4.3622e-05\n",
      "Epoch 2/5\n",
      "2551061/2551061 [==============================] - 2512s 985us/sample - loss: 2.1867e-05\n",
      "Epoch 3/5\n",
      "2551061/2551061 [==============================] - 2566s 1ms/sample - loss: 1.8974e-05\n",
      "Epoch 4/5\n",
      "2551061/2551061 [==============================] - 2662s 1ms/sample - loss: 1.7654e-05\n",
      "Epoch 5/5\n",
      "2551061/2551061 [==============================] - 2421s 949us/sample - loss: 1.6294e-05\n"
     ]
    }
   ],
   "source": [
    "trained_RNN_model = model.fit(X_train,Y_train,epochs=5)"
   ]
  },
  {
   "cell_type": "code",
   "execution_count": 14,
   "metadata": {},
   "outputs": [
    {
     "data": {
      "text/plain": [
       "<matplotlib.legend.Legend at 0x280b2978>"
      ]
     },
     "execution_count": 14,
     "metadata": {},
     "output_type": "execute_result"
    },
    {
     "data": {
      "image/png": "[encoded data removed]",
      "text/plain": [
       "<Figure size 432x288 with 1 Axes>"
      ]
     },
     "metadata": {
      "needs_background": "light"
     },
     "output_type": "display_data"
    }
   ],
   "source": [
    "Y_RNN_predicted = model.predict(X_test)\n",
    "plt.plot(training_scale_model.inverse_transform(Y_test.reshape(-1, 1)))\n",
    "plt.plot(training_scale_model.inverse_transform(Y_RNN_predicted))\n",
    "plt.legend(['y_test', 'y_RNN_predict'])"
   ]
  },
  {
   "cell_type": "code",
   "execution_count": 15,
   "metadata": {},
   "outputs": [
    {
     "name": "stdout",
     "output_type": "stream",
     "text": [
      "_________________________________________________________________\n",
      "Layer (type)                 Output Shape              Param #   \n",
      "=================================================================\n",
      "lstm (LSTM)                  (None, 10, 200)           161600    \n",
      "_________________________________________________________________\n",
      "dropout_4 (Dropout)          (None, 10, 200)           0         \n",
      "_________________________________________________________________\n",
      "lstm_1 (LSTM)                (None, 100)               120400    \n",
      "_________________________________________________________________\n",
      "dropout_5 (Dropout)          (None, 100)               0         \n",
      "_________________________________________________________________\n",
      "dense_2 (Dense)              (None, 20)                2020      \n",
      "_________________________________________________________________\n",
      "dropout_6 (Dropout)          (None, 20)                0         \n",
      "_________________________________________________________________\n",
      "dense_3 (Dense)              (None, 1)                 21        \n",
      "=================================================================\n",
      "Total params: 284,041\n",
      "Trainable params: 284,041\n",
      "Non-trainable params: 0\n",
      "_________________________________________________________________\n"
     ]
    }
   ],
   "source": [
    "LSTM_model = Sequential()\n",
    "LSTM_model.add(LSTM(200, input_shape=(10, 1),return_sequences= True))\n",
    "LSTM_model.add(Dropout(0.2))\n",
    "LSTM_model.add(LSTM(100))\n",
    "LSTM_model.add(Dropout(0.2))\n",
    "LSTM_model.add(Dense(20,activation='relu'))\n",
    "LSTM_model.add(Dropout(0.2))\n",
    "LSTM_model.add(Dense(1))\n",
    "LSTM_model.summary()\n",
    "LSTM_model.compile(optimizer='adam',loss= 'mean_squared_error')"
   ]
  },
  {
   "cell_type": "code",
   "execution_count": 16,
   "metadata": {},
   "outputs": [
    {
     "name": "stdout",
     "output_type": "stream",
     "text": [
      "Epoch 1/3\n",
      "2551061/2551061 [==============================] - 5795s 2ms/sample - loss: 0.0010\n",
      "Epoch 2/3\n",
      "2551061/2551061 [==============================] - 5786s 2ms/sample - loss: 9.5535e-04\n",
      "Epoch 3/3\n",
      "2551061/2551061 [==============================] - 5996s 2ms/sample - loss: 9.4067e-04\n"
     ]
    }
   ],
   "source": [
    "trained_LSTM_model = LSTM_model.fit(X_train,Y_train,epochs=3)"
   ]
  },
  {
   "cell_type": "code",
   "execution_count": 17,
   "metadata": {},
   "outputs": [
    {
     "data": {
      "text/plain": [
       "<matplotlib.legend.Legend at 0x3c236fd0>"
      ]
     },
     "execution_count": 17,
     "metadata": {},
     "output_type": "execute_result"
    },
    {
     "data": {
      "image/png": "[encoded data removed]",
      "text/plain": [
       "<Figure size 432x288 with 1 Axes>"
      ]
     },
     "metadata": {
      "needs_background": "light"
     },
     "output_type": "display_data"
    }
   ],
   "source": [
    "Y_LSTM_predicted = LSTM_model.predict(X_test)\n",
    "plt.plot(training_scale_model.inverse_transform(Y_test.reshape(-1, 1)))\n",
    "plt.plot(training_scale_model.inverse_transform(Y_LSTM_predicted))\n",
    "plt.legend(['y_test', 'y_LSTM_predict'])"
   ]
  },
  {
   "cell_type": "code",
   "execution_count": null,
   "metadata": {},
   "outputs": [],
   "source": []
  }
 ],
 "metadata": {
  "kernelspec": {
   "display_name": "Python 3",
   "language": "python",
   "name": "python3"
  },
  "language_info": {
   "codemirror_mode": {
    "name": "ipython",
    "version": 3
   },
   "file_extension": ".py",
   "mimetype": "text/x-python",
   "name": "python",
   "nbconvert_exporter": "python",
   "pygments_lexer": "ipython3",
   "version": "3.7.3"
  },
  "widgets": {
   "application/vnd.jupyter.widget-state+json": {
    "state": {},
    "version_major": 2,
    "version_minor": 0
   }
  }
 },
 "nbformat": 4,
 "nbformat_minor": 2
}
